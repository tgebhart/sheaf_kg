{
 "cells": [
  {
   "cell_type": "code",
   "execution_count": 1,
   "metadata": {},
   "outputs": [
    {
     "name": "stderr",
     "output_type": "stream",
     "text": [
      "PyKEEN was unable to load dataset openbiolinkf1. Try uninstalling PyKEEN with ``pip uninstall pykeen`` then reinstalling\n",
      "PyKEEN was unable to load dataset openbiolinkf2. Try uninstalling PyKEEN with ``pip uninstall pykeen`` then reinstalling\n"
     ]
    }
   ],
   "source": [
    "import os\n",
    "os.chdir('../sheaf_kg')\n",
    "import sys\n",
    "import time\n",
    "import argparse\n",
    "import json\n",
    "from tqdm import tqdm\n",
    "\n",
    "import pandas as pd\n",
    "import numpy as np\n",
    "import pykeen\n",
    "from pykeen.evaluation import rank_based_evaluator\n",
    "import torch\n",
    "from scipy import stats\n",
    "\n",
    "from sheaf_kg.train_sheafE_betae import read_dataset, shuffle_datasets, dataset_to_device, sample_answers\n",
    "import sheaf_kg.complex_functions as cf\n",
    "# from sheaf_kg.complex_functions import test_batch"
   ]
  },
  {
   "cell_type": "code",
   "execution_count": 2,
   "metadata": {},
   "outputs": [],
   "source": [
    "dataset = 'FB15k-237'\n",
    "savenames = ['SheafE_Translational_64embdim_64esdim_1sec_2norm_0.0lbda_250epochs_MarginRankingLossloss_None_11seed_20210602-2005',\n",
    "             'SheafE_Translational_64embdim_64esdim_1sec_2norm_0.0lbda_250epochs_MarginRankingLossloss_None_33seed_20210602-2046',\n",
    "             'SheafE_Translational_64embdim_64esdim_1sec_2norm_0.0lbda_250epochs_MarginRankingLossloss_None_44seed_20210602-2109',\n",
    "            ]\n",
    "savedir = f'/home/gebhart/projects/sheaf_kg/data/{dataset}'\n",
    "complex_dataset_loc = f'/home/gebhart/projects/sheaf_kg/data/{dataset}-betae'\n",
    "\n",
    "test_query_structures = ['1p','2p','3p','2i','3i','ip','pi']\n"
   ]
  },
  {
   "cell_type": "code",
   "execution_count": null,
   "metadata": {},
   "outputs": [],
   "source": []
  },
  {
   "cell_type": "code",
   "execution_count": 3,
   "metadata": {},
   "outputs": [],
   "source": [
    "fun_map = {'1p':cf.L_p_traversal_transE,\n",
    "           '2p':cf.L_p_traversal_transE,\n",
    "           '3p':cf.L_p_traversal_transE,\n",
    "           '2i':cf.L_i_traversal_transE,\n",
    "           '3i':cf.L_i_traversal_transE,\n",
    "           'ip':cf.L_ip_traversal_transE,\n",
    "           'pi':cf.L_pi_traversal_transE\n",
    "          }\n",
    "\n",
    "def test_batch(model, test_data, model_inverses=False, test_batch_size=5,\n",
    "                test_query_structures=test_query_structures,\n",
    "                ks=[1,3,5,10]):\n",
    "    with torch.no_grad():\n",
    "        results = []\n",
    "        for query_structure in test_query_structures:\n",
    "            print('Running query : {}'.format(query_structure))\n",
    "            all_avg_ranks = []\n",
    "            cnt = 0\n",
    "            num_test = len(test_data[query_structure]['answers'])\n",
    "            for qix in tqdm(range(0, num_test, test_batch_size)):\n",
    "                if num_test - qix == 1:\n",
    "                    continue\n",
    "                entities = test_data[query_structure]['entities'][qix:qix+test_batch_size]\n",
    "                relations = test_data[query_structure]['relations'][qix:qix+test_batch_size]\n",
    "                if model_inverses:\n",
    "                    inverses = None\n",
    "                else:\n",
    "                    inverses = test_data[query_structure]['inverses'][qix:qix+test_batch_size]\n",
    "                all_answers = test_data[query_structure]['answers'][qix:qix+test_batch_size]\n",
    "                targets = torch.arange(model.num_entities).to(model.device)\n",
    "                Q = fun_map[query_structure](model, entities, relations, targets, invs=inverses, p=2, variety='sheafE')\n",
    "                answer_lens = np.array([len(a) for a in all_answers])\n",
    "                max_len = answer_lens.max()\n",
    "                for l in np.unique(answer_lens):\n",
    "                    idxs = np.where(answer_lens == l)[0]\n",
    "                    answers = [all_answers[j] for j in idxs]\n",
    "                    filter_fix = torch.arange(l)\n",
    "                    for aix in range(len(idxs)):\n",
    "                        ranks = rank_based_evaluator.compute_rank_from_scores(Q[idxs[aix],answers[aix]].unsqueeze(1), Q[idxs[aix],:].unsqueeze(0))\n",
    "                        avg_rank = (torch.sort(ranks['realistic'].cpu(), dim=0)[0] - filter_fix).numpy()\n",
    "                        all_avg_ranks.append(avg_rank)\n",
    "            all_avg_ranks = np.concatenate(all_avg_ranks)\n",
    "            rd = {k: np.mean(all_avg_ranks <= k) for k in ks}\n",
    "            mrr = np.reciprocal(stats.hmean(all_avg_ranks))\n",
    "            rd['mrr'] = mrr if isinstance(mrr, float) else mrr[0]\n",
    "            # rd['mr'] = np.mean(all_avg_ranks)\n",
    "            results.append(rd)\n",
    "\n",
    "        df = pd.DataFrame(results, index=test_query_structures)\n",
    "        return df"
   ]
  },
  {
   "cell_type": "code",
   "execution_count": 4,
   "metadata": {},
   "outputs": [],
   "source": [
    "datasets = read_dataset(complex_dataset_loc)\n",
    "datasets = dataset_to_device(shuffle_datasets(datasets), 'cuda')"
   ]
  },
  {
   "cell_type": "code",
   "execution_count": 5,
   "metadata": {},
   "outputs": [
    {
     "name": "stderr",
     "output_type": "stream",
     "text": [
      "  2%|▏         | 49/3262 [00:00<00:06, 486.96it/s]"
     ]
    },
    {
     "name": "stdout",
     "output_type": "stream",
     "text": [
      "Running query : 1p\n"
     ]
    },
    {
     "name": "stderr",
     "output_type": "stream",
     "text": [
      "100%|██████████| 3262/3262 [00:06<00:00, 507.69it/s]\n",
      "  2%|▏         | 24/977 [00:00<00:04, 234.40it/s]"
     ]
    },
    {
     "name": "stdout",
     "output_type": "stream",
     "text": [
      "Running query : 2p\n"
     ]
    },
    {
     "name": "stderr",
     "output_type": "stream",
     "text": [
      "100%|██████████| 977/977 [00:04<00:00, 212.32it/s]\n",
      "  2%|▏         | 16/974 [00:00<00:06, 157.82it/s]"
     ]
    },
    {
     "name": "stdout",
     "output_type": "stream",
     "text": [
      "Running query : 3p\n"
     ]
    },
    {
     "name": "stderr",
     "output_type": "stream",
     "text": [
      "100%|██████████| 974/974 [00:06<00:00, 150.33it/s]\n",
      "  5%|▍         | 42/852 [00:00<00:01, 416.66it/s]"
     ]
    },
    {
     "name": "stdout",
     "output_type": "stream",
     "text": [
      "Running query : 2i\n"
     ]
    },
    {
     "name": "stderr",
     "output_type": "stream",
     "text": [
      "100%|██████████| 852/852 [00:02<00:00, 416.32it/s]\n",
      "  7%|▋         | 43/640 [00:00<00:01, 423.23it/s]"
     ]
    },
    {
     "name": "stdout",
     "output_type": "stream",
     "text": [
      "Running query : 3i\n"
     ]
    },
    {
     "name": "stderr",
     "output_type": "stream",
     "text": [
      "100%|██████████| 640/640 [00:01<00:00, 423.90it/s]\n",
      "  2%|▏         | 22/909 [00:00<00:04, 215.88it/s]"
     ]
    },
    {
     "name": "stdout",
     "output_type": "stream",
     "text": [
      "Running query : ip\n"
     ]
    },
    {
     "name": "stderr",
     "output_type": "stream",
     "text": [
      "100%|██████████| 909/909 [00:03<00:00, 227.46it/s]\n",
      "  4%|▍         | 35/857 [00:00<00:02, 341.55it/s]"
     ]
    },
    {
     "name": "stdout",
     "output_type": "stream",
     "text": [
      "Running query : pi\n"
     ]
    },
    {
     "name": "stderr",
     "output_type": "stream",
     "text": [
      "100%|██████████| 857/857 [00:02<00:00, 337.38it/s]\n",
      "  2%|▏         | 52/3262 [00:00<00:06, 516.70it/s]"
     ]
    },
    {
     "name": "stdout",
     "output_type": "stream",
     "text": [
      "Running query : 1p\n"
     ]
    },
    {
     "name": "stderr",
     "output_type": "stream",
     "text": [
      "100%|██████████| 3262/3262 [00:06<00:00, 511.88it/s]\n",
      "  2%|▏         | 24/977 [00:00<00:03, 238.32it/s]"
     ]
    },
    {
     "name": "stdout",
     "output_type": "stream",
     "text": [
      "Running query : 2p\n"
     ]
    },
    {
     "name": "stderr",
     "output_type": "stream",
     "text": [
      "100%|██████████| 977/977 [00:04<00:00, 212.56it/s]\n",
      "  2%|▏         | 16/974 [00:00<00:06, 156.59it/s]"
     ]
    },
    {
     "name": "stdout",
     "output_type": "stream",
     "text": [
      "Running query : 3p\n"
     ]
    },
    {
     "name": "stderr",
     "output_type": "stream",
     "text": [
      "100%|██████████| 974/974 [00:06<00:00, 150.03it/s]\n",
      "  5%|▍         | 42/852 [00:00<00:01, 418.40it/s]"
     ]
    },
    {
     "name": "stdout",
     "output_type": "stream",
     "text": [
      "Running query : 2i\n"
     ]
    },
    {
     "name": "stderr",
     "output_type": "stream",
     "text": [
      "100%|██████████| 852/852 [00:02<00:00, 419.96it/s]\n",
      "  7%|▋         | 43/640 [00:00<00:01, 425.23it/s]"
     ]
    },
    {
     "name": "stdout",
     "output_type": "stream",
     "text": [
      "Running query : 3i\n"
     ]
    },
    {
     "name": "stderr",
     "output_type": "stream",
     "text": [
      "100%|██████████| 640/640 [00:01<00:00, 426.09it/s]\n",
      "  2%|▏         | 22/909 [00:00<00:04, 215.84it/s]"
     ]
    },
    {
     "name": "stdout",
     "output_type": "stream",
     "text": [
      "Running query : ip\n"
     ]
    },
    {
     "name": "stderr",
     "output_type": "stream",
     "text": [
      "100%|██████████| 909/909 [00:03<00:00, 227.85it/s]\n",
      "  4%|▍         | 34/857 [00:00<00:02, 339.92it/s]"
     ]
    },
    {
     "name": "stdout",
     "output_type": "stream",
     "text": [
      "Running query : pi\n"
     ]
    },
    {
     "name": "stderr",
     "output_type": "stream",
     "text": [
      "100%|██████████| 857/857 [00:02<00:00, 335.08it/s]\n",
      "  2%|▏         | 52/3262 [00:00<00:06, 512.86it/s]"
     ]
    },
    {
     "name": "stdout",
     "output_type": "stream",
     "text": [
      "Running query : 1p\n"
     ]
    },
    {
     "name": "stderr",
     "output_type": "stream",
     "text": [
      "100%|██████████| 3262/3262 [00:06<00:00, 512.91it/s]\n",
      "  2%|▏         | 24/977 [00:00<00:04, 236.58it/s]"
     ]
    },
    {
     "name": "stdout",
     "output_type": "stream",
     "text": [
      "Running query : 2p\n"
     ]
    },
    {
     "name": "stderr",
     "output_type": "stream",
     "text": [
      "100%|██████████| 977/977 [00:04<00:00, 213.11it/s]\n",
      "  2%|▏         | 16/974 [00:00<00:06, 158.62it/s]"
     ]
    },
    {
     "name": "stdout",
     "output_type": "stream",
     "text": [
      "Running query : 3p\n"
     ]
    },
    {
     "name": "stderr",
     "output_type": "stream",
     "text": [
      "100%|██████████| 974/974 [00:06<00:00, 149.86it/s]\n",
      "  5%|▍         | 42/852 [00:00<00:01, 417.29it/s]"
     ]
    },
    {
     "name": "stdout",
     "output_type": "stream",
     "text": [
      "Running query : 2i\n"
     ]
    },
    {
     "name": "stderr",
     "output_type": "stream",
     "text": [
      "100%|██████████| 852/852 [00:02<00:00, 417.97it/s]\n",
      "  7%|▋         | 43/640 [00:00<00:01, 423.46it/s]"
     ]
    },
    {
     "name": "stdout",
     "output_type": "stream",
     "text": [
      "Running query : 3i\n"
     ]
    },
    {
     "name": "stderr",
     "output_type": "stream",
     "text": [
      "100%|██████████| 640/640 [00:01<00:00, 425.74it/s]\n",
      "  2%|▏         | 22/909 [00:00<00:04, 214.22it/s]"
     ]
    },
    {
     "name": "stdout",
     "output_type": "stream",
     "text": [
      "Running query : ip\n"
     ]
    },
    {
     "name": "stderr",
     "output_type": "stream",
     "text": [
      "100%|██████████| 909/909 [00:03<00:00, 227.44it/s]\n",
      "  4%|▍         | 35/857 [00:00<00:02, 337.91it/s]"
     ]
    },
    {
     "name": "stdout",
     "output_type": "stream",
     "text": [
      "Running query : pi\n"
     ]
    },
    {
     "name": "stderr",
     "output_type": "stream",
     "text": [
      "100%|██████████| 857/857 [00:02<00:00, 334.88it/s]\n"
     ]
    }
   ],
   "source": [
    "results = []\n",
    "for savename in savenames:\n",
    "    model = torch.load(os.path.join(savedir, savename, 'trained_model.pkl'))\n",
    "    extension_df = test_batch(model, datasets['test-easy'], model_inverses=True, test_query_structures=test_query_structures)\n",
    "    results.append(extension_df)    "
   ]
  },
  {
   "cell_type": "code",
   "execution_count": 6,
   "metadata": {},
   "outputs": [
    {
     "data": {
      "text/html": [
       "<div>\n",
       "<style scoped>\n",
       "    .dataframe tbody tr th:only-of-type {\n",
       "        vertical-align: middle;\n",
       "    }\n",
       "\n",
       "    .dataframe tbody tr th {\n",
       "        vertical-align: top;\n",
       "    }\n",
       "\n",
       "    .dataframe thead th {\n",
       "        text-align: right;\n",
       "    }\n",
       "</style>\n",
       "<table border=\"1\" class=\"dataframe\">\n",
       "  <thead>\n",
       "    <tr style=\"text-align: right;\">\n",
       "      <th></th>\n",
       "      <th>1</th>\n",
       "      <th>3</th>\n",
       "      <th>5</th>\n",
       "      <th>10</th>\n",
       "      <th>mrr</th>\n",
       "    </tr>\n",
       "  </thead>\n",
       "  <tbody>\n",
       "    <tr>\n",
       "      <th>1p</th>\n",
       "      <td>4.757007</td>\n",
       "      <td>11.570886</td>\n",
       "      <td>15.572693</td>\n",
       "      <td>21.464360</td>\n",
       "      <td>10.167606</td>\n",
       "    </tr>\n",
       "    <tr>\n",
       "      <th>2p</th>\n",
       "      <td>0.639300</td>\n",
       "      <td>1.372207</td>\n",
       "      <td>1.906338</td>\n",
       "      <td>2.850881</td>\n",
       "      <td>1.481599</td>\n",
       "    </tr>\n",
       "    <tr>\n",
       "      <th>3p</th>\n",
       "      <td>0.277892</td>\n",
       "      <td>0.614917</td>\n",
       "      <td>0.870591</td>\n",
       "      <td>1.383304</td>\n",
       "      <td>0.752916</td>\n",
       "    </tr>\n",
       "    <tr>\n",
       "      <th>2i</th>\n",
       "      <td>0.462078</td>\n",
       "      <td>1.428388</td>\n",
       "      <td>2.326510</td>\n",
       "      <td>4.323176</td>\n",
       "      <td>1.895931</td>\n",
       "    </tr>\n",
       "    <tr>\n",
       "      <th>3i</th>\n",
       "      <td>0.324724</td>\n",
       "      <td>1.043929</td>\n",
       "      <td>1.819205</td>\n",
       "      <td>3.933996</td>\n",
       "      <td>1.797430</td>\n",
       "    </tr>\n",
       "    <tr>\n",
       "      <th>ip</th>\n",
       "      <td>0.445792</td>\n",
       "      <td>0.955036</td>\n",
       "      <td>1.474849</td>\n",
       "      <td>2.747254</td>\n",
       "      <td>1.287176</td>\n",
       "    </tr>\n",
       "    <tr>\n",
       "      <th>pi</th>\n",
       "      <td>0.225104</td>\n",
       "      <td>0.698068</td>\n",
       "      <td>1.189696</td>\n",
       "      <td>2.648452</td>\n",
       "      <td>1.289039</td>\n",
       "    </tr>\n",
       "  </tbody>\n",
       "</table>\n",
       "</div>"
      ],
      "text/plain": [
       "           1          3          5         10        mrr\n",
       "1p  4.757007  11.570886  15.572693  21.464360  10.167606\n",
       "2p  0.639300   1.372207   1.906338   2.850881   1.481599\n",
       "3p  0.277892   0.614917   0.870591   1.383304   0.752916\n",
       "2i  0.462078   1.428388   2.326510   4.323176   1.895931\n",
       "3i  0.324724   1.043929   1.819205   3.933996   1.797430\n",
       "ip  0.445792   0.955036   1.474849   2.747254   1.287176\n",
       "pi  0.225104   0.698068   1.189696   2.648452   1.289039"
      ]
     },
     "execution_count": 6,
     "metadata": {},
     "output_type": "execute_result"
    }
   ],
   "source": [
    "mndf = sum(results)/len(results)\n",
    "mndf*100"
   ]
  },
  {
   "cell_type": "code",
   "execution_count": 7,
   "metadata": {},
   "outputs": [
    {
     "name": "stdout",
     "output_type": "stream",
     "text": [
      "\\begin{tabular}{lrrrrrrr}\n",
      "\\toprule\n",
      "{} &     1p &    2p &    3p &    2i &    3i &    ip &    pi \\\\\n",
      "\\midrule\n",
      "1   &   4.76 &  0.64 &  0.28 &  0.46 &  0.32 &  0.45 &  0.23 \\\\\n",
      "3   &  11.57 &  1.37 &  0.61 &  1.43 &  1.04 &  0.96 &  0.70 \\\\\n",
      "5   &  15.57 &  1.91 &  0.87 &  2.33 &  1.82 &  1.47 &  1.19 \\\\\n",
      "10  &  21.46 &  2.85 &  1.38 &  4.32 &  3.93 &  2.75 &  2.65 \\\\\n",
      "mrr &  10.17 &  1.48 &  0.75 &  1.90 &  1.80 &  1.29 &  1.29 \\\\\n",
      "\\bottomrule\n",
      "\\end{tabular}\n",
      "\n"
     ]
    }
   ],
   "source": [
    "print((mndf.transpose().round(4)*100).to_latex())"
   ]
  },
  {
   "cell_type": "code",
   "execution_count": null,
   "metadata": {},
   "outputs": [],
   "source": []
  }
 ],
 "metadata": {
  "kernelspec": {
   "display_name": "Python 3",
   "language": "python",
   "name": "python3"
  },
  "language_info": {
   "codemirror_mode": {
    "name": "ipython",
    "version": 3
   },
   "file_extension": ".py",
   "mimetype": "text/x-python",
   "name": "python",
   "nbconvert_exporter": "python",
   "pygments_lexer": "ipython3",
   "version": "3.7.9"
  }
 },
 "nbformat": 4,
 "nbformat_minor": 4
}
